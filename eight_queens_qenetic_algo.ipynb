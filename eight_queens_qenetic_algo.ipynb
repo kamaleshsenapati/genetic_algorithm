{
 "cells": [
  {
   "cell_type": "markdown",
   "metadata": {},
   "source": [
    "# Eight Queen Puzzle Solution Using Genetic Algorithm\n",
    "\n",
    "### by Kamalesh Senapati\n",
    "\n",
    "In below section Importing the required libraries\n"
   ]
  },
  {
   "cell_type": "code",
   "execution_count": 1,
   "metadata": {},
   "outputs": [],
   "source": [
    "import random\n",
    "import pandas as pd\n",
    "import sys"
   ]
  },
  {
   "cell_type": "markdown",
   "metadata": {},
   "source": [
    "#### Class Board \n",
    "Built a class board which initialises and calculates/holds below attributes of a Board :\n",
    "<br/> (-) Queen positions in board \n",
    "<br/> (-) fitness score\n",
    "<br/> (-) probability"
   ]
  },
  {
   "cell_type": "code",
   "execution_count": 2,
   "metadata": {},
   "outputs": [],
   "source": [
    "class Board:\n",
    "    \n",
    "    def __init__(self,board_position=None):\n",
    "        if board_position is None:\n",
    "            self.board_position=[random.randint(0,7) for queen in range(8)]\n",
    "        else:\n",
    "            self.board_position=board_position\n",
    "        self.calculate_score()\n",
    "\n",
    "    def calculate_score(self):\n",
    "        bottom_left_2_top_right = [0] * 15\n",
    "        bottom_right_2_top_left = [0] * 15\n",
    "        diagonal_attack=0\n",
    "        horizontal_attack = int(sum([self.board_position.count(queen)-1 for queen in self.board_position])/2)\n",
    "        for i in range(8):\n",
    "            bottom_left_2_top_right[i + self.board_position[i]] += 1\n",
    "            bottom_right_2_top_left[8- i + self.board_position[i] - 1] += 1\n",
    "        for i in range(15):\n",
    "            if bottom_left_2_top_right[i] > 1:\n",
    "                diagonal_attack += int(bottom_left_2_top_right[i]*(bottom_left_2_top_right[i]-1)/2)\n",
    "            if bottom_right_2_top_left[i] > 1:\n",
    "                diagonal_attack += int(bottom_right_2_top_left[i]*(bottom_right_2_top_left[i]-1)/2)\n",
    "        self.score=28-(horizontal_attack + diagonal_attack)\n",
    "        self.probability=self.score/28"
   ]
  },
  {
   "cell_type": "markdown",
   "metadata": {},
   "source": [
    "#### Population Generation Function\n",
    "Functions to generate population and sort them in a datafram for further processing."
   ]
  },
  {
   "cell_type": "code",
   "execution_count": 3,
   "metadata": {},
   "outputs": [],
   "source": [
    "def generate_population(population_count):\n",
    "    return sort_population(pd.DataFrame(board.__dict__ for board in [Board() for i in range(population_count)] ))\n",
    "\n",
    "def sort_population(population):\n",
    "    population.sort_values(['score'],ascending=False,inplace=True)\n",
    "    return population.reset_index(drop=True)"
   ]
  },
  {
   "cell_type": "markdown",
   "metadata": {},
   "source": [
    "#### Cross over & Mutation Function\n",
    "Functions to do crossover and mutation of the selected gene pool."
   ]
  },
  {
   "cell_type": "code",
   "execution_count": 4,
   "metadata": {},
   "outputs": [],
   "source": [
    "def crossover(parents,mutation_rate):\n",
    "    childs=[]\n",
    "    parents_set_1=parents[0:len(parents):2]\n",
    "    parents_set_2=parents[1:len(parents):2]\n",
    "    for i in range(min(len(parents_set_1),len(parents_set_2))):\n",
    "        if random.random() < mutation_rate:\n",
    "            childs+=mutate(parents_set_1[i],parents_set_2[i])\n",
    "        else:\n",
    "            cross_point=random.randint(0,7)\n",
    "            childs+=[parents_set_1[i][:cross_point]+parents_set_2[i][cross_point:]]+[parents_set_2[i][:cross_point]+parents_set_1[i][cross_point:]]\n",
    "    return sort_population(pd.DataFrame(board.__dict__ for board in [Board(child) for child in childs]))\n",
    "\n",
    "def mutate(parent1,parent2):\n",
    "    return [random.shuffle(parent1),random.shuffle(parent2)]"
   ]
  },
  {
   "cell_type": "markdown",
   "metadata": {},
   "source": [
    "#### Print Board \n",
    "Function to print the solution Board."
   ]
  },
  {
   "cell_type": "code",
   "execution_count": 5,
   "metadata": {},
   "outputs": [],
   "source": [
    "def print_board(solution):\n",
    "    board = []\n",
    "    for i in range(8):\n",
    "        board.append(['X'] * 8)\n",
    "    for i in range(8):\n",
    "        board[7-solution[i]][i]='Q'\n",
    "    for i in range(8):\n",
    "        print (' '.join(board[i]))"
   ]
  },
  {
   "cell_type": "markdown",
   "metadata": {},
   "source": [
    "#### Main Function\n",
    "\n",
    "Main function to generate the correct Queen Positions in the board."
   ]
  },
  {
   "cell_type": "code",
   "execution_count": 6,
   "metadata": {},
   "outputs": [],
   "source": [
    "def main(population_count=300,mutation_rate=0.15):\n",
    "    generations_count=0    \n",
    "    board_population=generate_population(population_count)\n",
    "    print('Generation: {} -> Average Fitness : {:.2f} % ; Top Child: {} Score: {} '.format(generations_count,board_population[\"probability\"].mean()*100,board_population['board_position'][0],board_population['score'][0]))\n",
    "    while not  board_population['probability'].max() == 1:\n",
    "        generations_count+=1\n",
    "        board_population=crossover(board_population['board_position'][:].tolist(),mutation_rate)\n",
    "        print('Generation: {} -> Average Fitness : {:.2f} % ; Top Child: {} Score: {} '.format(generations_count,board_population[\"probability\"].mean()*100,board_population['board_position'][0],board_population['score'][0]))\n",
    "    print('\\nPopulation Count: {} \\nMutation Rate: {}'.format(population_count,mutation_rate))\n",
    "    print('\\nThe solution is : {} \\n'.format(''.join(map(str,board_population['board_position'][0]))))\n",
    "    print_board(board_population['board_position'][0])"
   ]
  },
  {
   "cell_type": "markdown",
   "metadata": {},
   "source": [
    "#### Execution of main function\n",
    "The code can be excuted with default arguments of 300 population count and 0.15 of mutation rate. Or can be executed with custom arguments passed at runtime."
   ]
  },
  {
   "cell_type": "code",
   "execution_count": 7,
   "metadata": {},
   "outputs": [
    {
     "name": "stdout",
     "output_type": "stream",
     "text": [
      "Generation: 0 -> Average Fitness : 71.83 % ; Top Child: [5, 1, 5, 0, 2, 6, 7, 2] Score: 25 \n",
      "Generation: 1 -> Average Fitness : 71.23 % ; Top Child: [4, 0, 5, 2, 2, 6, 3, 7] Score: 26 \n",
      "Generation: 2 -> Average Fitness : 71.64 % ; Top Child: [3, 1, 7, 5, 2, 2, 7, 3] Score: 25 \n",
      "Generation: 3 -> Average Fitness : 72.33 % ; Top Child: [2, 4, 1, 1, 0, 6, 3, 7] Score: 26 \n",
      "Generation: 4 -> Average Fitness : 71.86 % ; Top Child: [5, 2, 6, 3, 7, 7, 1, 6] Score: 26 \n",
      "Generation: 5 -> Average Fitness : 71.57 % ; Top Child: [5, 3, 0, 7, 3, 1, 6, 4] Score: 27 \n",
      "Generation: 6 -> Average Fitness : 72.17 % ; Top Child: [6, 3, 3, 6, 4, 2, 7, 5] Score: 25 \n",
      "Generation: 7 -> Average Fitness : 71.81 % ; Top Child: [2, 4, 7, 1, 3, 1, 6, 4] Score: 26 \n",
      "Generation: 8 -> Average Fitness : 71.70 % ; Top Child: [6, 1, 7, 2, 0, 7, 4, 4] Score: 26 \n",
      "Generation: 9 -> Average Fitness : 70.89 % ; Top Child: [3, 1, 1, 4, 7, 0, 2, 5] Score: 25 \n",
      "Generation: 10 -> Average Fitness : 71.35 % ; Top Child: [7, 5, 1, 4, 7, 0, 2, 5] Score: 25 \n",
      "Generation: 11 -> Average Fitness : 70.77 % ; Top Child: [2, 5, 1, 4, 7, 0, 2, 5] Score: 26 \n",
      "Generation: 12 -> Average Fitness : 71.83 % ; Top Child: [2, 5, 7, 2, 0, 3, 6, 1] Score: 26 \n",
      "Generation: 13 -> Average Fitness : 71.80 % ; Top Child: [2, 5, 7, 2, 0, 3, 6, 1] Score: 26 \n",
      "Generation: 14 -> Average Fitness : 72.00 % ; Top Child: [1, 7, 4, 7, 0, 0, 3, 6] Score: 26 \n",
      "Generation: 15 -> Average Fitness : 72.31 % ; Top Child: [5, 3, 6, 0, 7, 1, 7, 5] Score: 26 \n",
      "Generation: 16 -> Average Fitness : 71.73 % ; Top Child: [5, 3, 6, 0, 7, 4, 6, 1] Score: 26 \n",
      "Generation: 17 -> Average Fitness : 71.19 % ; Top Child: [6, 2, 7, 1, 4, 5, 0, 6] Score: 25 \n",
      "Generation: 18 -> Average Fitness : 71.60 % ; Top Child: [6, 2, 7, 1, 4, 0, 2, 4] Score: 25 \n",
      "Generation: 19 -> Average Fitness : 71.79 % ; Top Child: [5, 2, 6, 0, 7, 4, 1, 5] Score: 26 \n",
      "Generation: 20 -> Average Fitness : 71.12 % ; Top Child: [4, 7, 4, 2, 5, 6, 1, 3] Score: 26 \n",
      "Generation: 21 -> Average Fitness : 70.89 % ; Top Child: [1, 7, 2, 6, 2, 0, 5, 6] Score: 25 \n",
      "Generation: 22 -> Average Fitness : 71.25 % ; Top Child: [4, 7, 4, 2, 5, 6, 3, 0] Score: 25 \n",
      "Generation: 23 -> Average Fitness : 71.58 % ; Top Child: [3, 0, 4, 7, 0, 3, 6, 2] Score: 26 \n",
      "Generation: 24 -> Average Fitness : 72.55 % ; Top Child: [3, 0, 4, 7, 0, 3, 6, 2] Score: 26 \n",
      "Generation: 25 -> Average Fitness : 71.14 % ; Top Child: [6, 3, 0, 2, 5, 1, 6, 0] Score: 25 \n",
      "Generation: 26 -> Average Fitness : 71.37 % ; Top Child: [3, 0, 4, 7, 0, 3, 1, 6] Score: 25 \n",
      "Generation: 27 -> Average Fitness : 71.39 % ; Top Child: [5, 2, 4, 7, 0, 3, 1, 6] Score: 28 \n",
      "\n",
      "Population Count: 300 \n",
      "Mutation Rate: 0.15\n",
      "\n",
      "The solution is : 52470316 \n",
      "\n",
      "X X X Q X X X X\n",
      "X X X X X X X Q\n",
      "Q X X X X X X X\n",
      "X X Q X X X X X\n",
      "X X X X X Q X X\n",
      "X Q X X X X X X\n",
      "X X X X X X Q X\n",
      "X X X X Q X X X\n"
     ]
    }
   ],
   "source": [
    "if __name__ == '__main__':\n",
    "    try:\n",
    "        if len(sys.argv) == 3 and int(sys.argv[1])>=2 and 0 <= float(sys.argv[2]) <= 1:           \n",
    "            main(int(sys.argv[1]),float(sys.argv[2]))\n",
    "        else:\n",
    "            main()\n",
    "    except:\n",
    "        main()"
   ]
  }
 ],
 "metadata": {
  "kernelspec": {
   "display_name": "Python 3",
   "language": "python",
   "name": "python3"
  },
  "language_info": {
   "codemirror_mode": {
    "name": "ipython",
    "version": 3
   },
   "file_extension": ".py",
   "mimetype": "text/x-python",
   "name": "python",
   "nbconvert_exporter": "python",
   "pygments_lexer": "ipython3",
   "version": "3.7.6"
  }
 },
 "nbformat": 4,
 "nbformat_minor": 4
}
